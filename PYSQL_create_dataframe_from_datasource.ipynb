{
 "cells": [
  {
   "cell_type": "code",
   "execution_count": 1,
   "metadata": {},
   "outputs": [],
   "source": [
    "import pyspark\n",
    "from pyspark.sql import SparkSession #Importing the Libraries\n",
    "# Creating Spark Session\n",
    "spark = SparkSession.builder.appName('SparkByExamples.com').getOrCreate()\n",
    "# Reading /loading the Dataset from CSV file\n",
    "cardf = spark.read.load(\"spark_files/cars.csv\", format=\"csv\", header = True,inferSchema = True)\n",
    "\n",
    "\"\"\" To read a CSV file, simply specify the path to the load() function of the read module. \n",
    "The inferSchema and header  parameters are mandatory whenever reading CSV files; without them, \n",
    "Spark will cast every data type to string, and treat the header row as actual data: \"\"\""
   ]
  },
  {
   "attachments": {},
   "cell_type": "markdown",
   "metadata": {},
   "source": [
    "1. To see the types of columns in DataFrame, we can use the printSchema() method."
   ]
  },
  {
   "cell_type": "code",
   "execution_count": 2,
   "metadata": {},
   "outputs": [
    {
     "name": "stdout",
     "output_type": "stream",
     "text": [
      "root\n",
      " |-- Car: string (nullable = true)\n",
      " |-- MPG: double (nullable = true)\n",
      " |-- Cylinders: integer (nullable = true)\n",
      " |-- Displacement: double (nullable = true)\n",
      " |-- Horsepower: integer (nullable = true)\n",
      " |-- Weight: integer (nullable = true)\n",
      " |-- Acceleration: double (nullable = true)\n",
      " |-- Model: integer (nullable = true)\n",
      " |-- Origin: string (nullable = true)\n",
      " |-- quantity: integer (nullable = true)\n",
      " |-- city: string (nullable = true)\n",
      "\n"
     ]
    }
   ],
   "source": [
    "cardf.printSchema() #in a tree format"
   ]
  },
  {
   "attachments": {},
   "cell_type": "markdown",
   "metadata": {},
   "source": [
    "2. Column names"
   ]
  },
  {
   "cell_type": "code",
   "execution_count": 3,
   "metadata": {},
   "outputs": [
    {
     "data": {
      "text/plain": [
       "['Car',\n",
       " 'MPG',\n",
       " 'Cylinders',\n",
       " 'Displacement',\n",
       " 'Horsepower',\n",
       " 'Weight',\n",
       " 'Acceleration',\n",
       " 'Model',\n",
       " 'Origin',\n",
       " 'quantity',\n",
       " 'city']"
      ]
     },
     "execution_count": 3,
     "metadata": {},
     "output_type": "execute_result"
    }
   ],
   "source": [
    "cardf.columns"
   ]
  },
  {
   "attachments": {},
   "cell_type": "markdown",
   "metadata": {},
   "source": [
    "3. Have a look at the dataset"
   ]
  },
  {
   "cell_type": "code",
   "execution_count": 4,
   "metadata": {},
   "outputs": [
    {
     "name": "stdout",
     "output_type": "stream",
     "text": [
      "+--------------------+----+---------+------------+----------+------+------------+-----+------+--------+-------+\n",
      "|                 Car| MPG|Cylinders|Displacement|Horsepower|Weight|Acceleration|Model|Origin|quantity|   city|\n",
      "+--------------------+----+---------+------------+----------+------+------------+-----+------+--------+-------+\n",
      "|AMC Ambassador Br...|13.0|        8|       360.0|       175|  3821|        11.0|   73|    US|      25|NewYork|\n",
      "|  AMC Ambassador DPL|15.0|        8|       390.0|       190|  3850|         8.5|   70|    US|       2|     NJ|\n",
      "|  AMC Ambassador SST|17.0|        8|       304.0|       150|  3672|        11.5|   72|    US|       4| DALLAS|\n",
      "|         AMC Concord|19.4|        6|       232.0|        90|  3210|        17.2|   78|    US|      52|  TEXAS|\n",
      "|         AMC Concord|24.3|        4|       151.0|        90|  3003|        20.1|   80|    US|      42|     OH|\n",
      "|     AMC Concord d/l|18.1|        6|       258.0|       120|  3410|        15.1|   78|    US|       4|NewYork|\n",
      "|      AMC Concord DL|23.0|        4|       151.0|         0|  3035|        20.5|   82|    US|      45|     NJ|\n",
      "|    AMC Concord DL 6|20.2|        6|       232.0|        90|  3265|        18.2|   79|    US|     328| DALLAS|\n",
      "|         AMC Gremlin|21.0|        6|       199.0|        90|  2648|        15.0|   70|    US|      68|  TEXAS|\n",
      "|         AMC Gremlin|19.0|        6|       232.0|       100|  2634|        13.0|   71|    US|      78|     OH|\n",
      "|         AMC Gremlin|18.0|        6|       232.0|       100|  2789|        15.0|   73|    US|     152|NewYork|\n",
      "|         AMC Gremlin|20.0|        6|       232.0|       100|  2914|        16.0|   75|    US|     214|     NJ|\n",
      "|          AMC Hornet|18.0|        6|       199.0|        97|  2774|        15.5|   70|    US|      60| DALLAS|\n",
      "|          AMC Hornet|18.0|        6|       232.0|       100|  2945|        16.0|   73|    US|     144|  TEXAS|\n",
      "|          AMC Hornet|19.0|        6|       232.0|       100|  2901|        16.0|   74|    US|     172|     OH|\n",
      "|          AMC Hornet|22.5|        6|       232.0|        90|  3085|        17.6|   76|    US|      28|NewYork|\n",
      "|AMC Hornet Sporta...|18.0|        6|       258.0|       110|  2962|        13.5|   71|    US|      90|     NJ|\n",
      "|         AMC Matador|18.0|        6|       232.0|       100|  3288|        15.5|   71|    US|      82| DALLAS|\n",
      "|         AMC Matador|14.0|        8|       304.0|       150|  3672|        11.5|   73|    US|     131|  TEXAS|\n",
      "|         AMC Matador|16.0|        6|       258.0|       110|  3632|        18.0|   74|    US|     179|NewYork|\n",
      "+--------------------+----+---------+------------+----------+------+------------+-----+------+--------+-------+\n",
      "only showing top 20 rows\n",
      "\n"
     ]
    }
   ],
   "source": [
    "cardf.show()"
   ]
  }
 ],
 "metadata": {
  "kernelspec": {
   "display_name": "Python 3",
   "language": "python",
   "name": "python3"
  },
  "language_info": {
   "codemirror_mode": {
    "name": "ipython",
    "version": 3
   },
   "file_extension": ".py",
   "mimetype": "text/x-python",
   "name": "python",
   "nbconvert_exporter": "python",
   "pygments_lexer": "ipython3",
   "version": "3.10.9"
  },
  "orig_nbformat": 4,
  "vscode": {
   "interpreter": {
    "hash": "9bcaac30b044cc0682170415be85d523e7e3756c013a2bb4ce2ab93caa5ea8a4"
   }
  }
 },
 "nbformat": 4,
 "nbformat_minor": 2
}
